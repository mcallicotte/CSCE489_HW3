{
  "nbformat": 4,
  "nbformat_minor": 0,
  "metadata": {
    "colab": {
      "provenance": [],
      "collapsed_sections": [],
      "mount_file_id": "1tbZ9r2hoR_WomN7LhcCryn4KPdtUQ6kj",
      "authorship_tag": "ABX9TyMxUP+1dec8kjk5HqUTrhwA",
      "include_colab_link": true
    },
    "kernelspec": {
      "name": "python3",
      "display_name": "Python 3"
    },
    "language_info": {
      "name": "python"
    },
    "accelerator": "GPU"
  },
  "cells": [
    {
      "cell_type": "markdown",
      "metadata": {
        "id": "view-in-github",
        "colab_type": "text"
      },
      "source": [
        "<a href=\"https://colab.research.google.com/github/mcallicotte/CSCE489_HW3/blob/main/Callicotte_HW3.ipynb\" target=\"_parent\"><img src=\"https://colab.research.google.com/assets/colab-badge.svg\" alt=\"Open In Colab\"/></a>"
      ]
    },
    {
      "cell_type": "markdown",
      "source": [
        "#HW3\n",
        "\n",
        "By: Mary Callicotte"
      ],
      "metadata": {
        "id": "zJQ4JMc00jyg"
      }
    },
    {
      "cell_type": "markdown",
      "source": [
        "###Step 0\n",
        "Set-up variables"
      ],
      "metadata": {
        "id": "8m3eRdF9yyeU"
      }
    },
    {
      "cell_type": "code",
      "source": [
        "SEED = 300922 # Sets the random seed for the notebook\n",
        "FILEPATH = \"/content/drive/MyDrive/!Data\" # path to the data files in my Google Drive\n",
        "\n",
        "LEARNING_RATE = 0.001\n",
        "BATCH_SIZE = 32\n",
        "N_EPOCHS = 5\n",
        "\n",
        "IMG_SIZE = 28\n",
        "N_CLASSES = 26"
      ],
      "metadata": {
        "id": "W-11hFYZyvyS"
      },
      "execution_count": null,
      "outputs": []
    },
    {
      "cell_type": "markdown",
      "source": [
        "## Task 1\n",
        "\n",
        "Create a dataset class suitable for loading the HW3 dataset files"
      ],
      "metadata": {
        "id": "LzB2_JAQ0nKz"
      }
    },
    {
      "cell_type": "markdown",
      "source": [
        "### Step 1.1\n",
        "\n",
        "Mount Google Drive to upload files to Notebook"
      ],
      "metadata": {
        "id": "CgEx5m9E092i"
      }
    },
    {
      "cell_type": "code",
      "execution_count": null,
      "metadata": {
        "colab": {
          "base_uri": "https://localhost:8080/"
        },
        "id": "y1kk7QGm0hN9",
        "outputId": "6764b798-0495-4a13-bb3a-89768da24645"
      },
      "outputs": [
        {
          "output_type": "stream",
          "name": "stdout",
          "text": [
            "Drive already mounted at /content/drive; to attempt to forcibly remount, call drive.mount(\"/content/drive\", force_remount=True).\n",
            "hw3-letters-test-images-idx3-ubyte  hw3-letters-train-images-idx3-ubyte\n",
            "hw3-letters-test-labels-idx1-ubyte  hw3-letters-train-labels-idx1-ubyte\n"
          ]
        }
      ],
      "source": [
        "# Step 1.1\n",
        "\n",
        "from google.colab import drive\n",
        "drive.mount('/content/drive')\n",
        "\n",
        "# ---- Testing ---- #\n",
        "!ls \"/content/drive/MyDrive/!Data\"\n",
        "# ----   END   ---- #"
      ]
    },
    {
      "cell_type": "markdown",
      "source": [
        "###Step 1.2\n",
        "Create child of torch.utils.data.Dataset"
      ],
      "metadata": {
        "id": "ReAHK9NVrxkW"
      }
    },
    {
      "cell_type": "code",
      "source": [
        "# Step 1.2\n",
        "\n",
        "import torch\n",
        "import numpy as np\n",
        "\n",
        "class MyDataSet(torch.utils.data.Dataset):\n",
        "  \"\"\"Child of pytorch Dataset class to use pytorch dataloader on unique data\"\"\"\n",
        "  def __init__(self, labelsFilepath, imagesFilepath):\n",
        "    self.labelFile = labelsFilepath\n",
        "    self.imageFile = imagesFilepath\n",
        "    self.imageList = [] # appending to list more effiecent than np array\n",
        "    self.labelList = []\n",
        "\n",
        "    with open(labelsFilepath, 'rb') as f:\n",
        "      self.labelNumber = int.from_bytes(f.read(4), byteorder = 'big')\n",
        "      for i in range(0, self.labelNumber):\n",
        "        self.labelList.append(ord(f.read(1)) - 1) #changes class indices from 1-26 to 0-25\n",
        "    \n",
        "    with open(imagesFilepath, 'rb') as f:\n",
        "      self.imageNumber = int.from_bytes(f.read(4), byteorder = 'big')\n",
        "      if self.imageNumber != self.labelNumber:\n",
        "        raise Exception(\"Label and Image Numbers Did Not Match\")\n",
        "      self.imageRows = int.from_bytes(f.read(4), byteorder = 'big')\n",
        "      self.imageCols = int.from_bytes(f.read(4), byteorder = 'big')\n",
        "\n",
        "      for i in range(0, self.imageNumber*self.imageRows*self.imageCols):\n",
        "        self.imageList.append(ord(f.read(1)))\n",
        "      \n",
        "    self.imageArray = np.array(self.imageList).astype(np.float32).reshape(self.imageNumber, self.imageRows, self.imageCols)\n",
        "    self.labelArray = np.array(self.labelList)\n",
        "\n",
        "    for i in range(0, self.imageNumber):\n",
        "        self.imageArray[i] = self.imageArray[i].transpose()\n",
        "\n",
        "  def len(self):\n",
        "    return self.labelNumber\n",
        "  \n",
        "  def __len__(self):\n",
        "    return self.imageNumber\n",
        "\n",
        "  def __getitem__(self, idx):\n",
        "    return (self.imageArray[idx].reshape(1, self.imageRows, self.imageCols), self.labelArray[idx])\n",
        "\n",
        "# # ---- Testing ---- #\n",
        "# testData = MyDataSet(FILEPATH + \"/hw3-letters-test-labels-idx1-ubyte\", FILEPATH + \"/hw3-letters-test-images-idx3-ubyte\")\n",
        "# print(testData.len())\n",
        "# print(testData.getitem(0))\n",
        "# # ----   END   ---- #"
      ],
      "metadata": {
        "id": "hYS6DPgir-SB"
      },
      "execution_count": null,
      "outputs": []
    },
    {
      "cell_type": "markdown",
      "source": [
        "###Step 1.3\n",
        "Load the Datasets"
      ],
      "metadata": {
        "id": "uAv627avPSVE"
      }
    },
    {
      "cell_type": "code",
      "source": [
        "# Step 1.3\n",
        "# requires step 0, 1.1, 1.2\n",
        "\n",
        "trainSet = MyDataSet(FILEPATH + \"/hw3-letters-train-labels-idx1-ubyte\", FILEPATH + \"/hw3-letters-train-images-idx3-ubyte\")\n",
        "testSet = MyDataSet(FILEPATH + \"/hw3-letters-test-labels-idx1-ubyte\", FILEPATH + \"/hw3-letters-test-images-idx3-ubyte\")\n",
        "\n",
        "# # ---- Testing ---- #\n",
        "# print(\"trainSet length =\", trainSet.len(), \"\\ntestSet length =\", testSet.len())\n",
        "# print(testSet.labelList)\n",
        "# # ----   END   ---- #"
      ],
      "metadata": {
        "id": "FFgPLBMvPXpU"
      },
      "execution_count": null,
      "outputs": []
    },
    {
      "cell_type": "markdown",
      "source": [
        "##Task 2\n",
        "Use matplot to plot at least 20 images"
      ],
      "metadata": {
        "id": "OGnLLt6gOnzE"
      }
    },
    {
      "cell_type": "code",
      "source": [
        "# Task 2\n",
        "# requires step 1.3\n",
        "import matplotlib.pyplot as plt\n",
        "\n",
        "IMG_ROWS = 10\n",
        "ROW_NUM = 2\n",
        "\n",
        "fig = plt.figure()\n",
        "for i in range (1, IMG_ROWS * ROW_NUM + 1):\n",
        "  plt.subplot(ROW_NUM, IMG_ROWS, i)\n",
        "  plt.axis('off')\n",
        "  plt.imshow(trainSet.imageArray[i], cmap = 'gray')\n",
        "fig.suptitle(\"Data Preview\")\n"
      ],
      "metadata": {
        "colab": {
          "base_uri": "https://localhost:8080/",
          "height": 259
        },
        "id": "S6_FA5IYRNPt",
        "outputId": "34265099-b396-4b73-b102-1ed6a42a33a4"
      },
      "execution_count": null,
      "outputs": [
        {
          "output_type": "execute_result",
          "data": {
            "text/plain": [
              "Text(0.5, 0.98, 'Data Preview')"
            ]
          },
          "metadata": {},
          "execution_count": 4
        },
        {
          "output_type": "display_data",
          "data": {
            "text/plain": [
              "<Figure size 432x288 with 20 Axes>"
            ],
            "image/png": "[encoded data removed]"
          },
          "metadata": {
            "needs_background": "light"
          }
        }
      ]
    },
    {
      "cell_type": "markdown",
      "source": [
        "##Task 3\n",
        "Train a neural network to recognize 26 letters"
      ],
      "metadata": {
        "id": "pMxWmG60XGq5"
      }
    },
    {
      "cell_type": "markdown",
      "source": [
        "###Step 3.1\n",
        "Helper fucntions to help train the model"
      ],
      "metadata": {
        "id": "0Pxjj4wj6BzB"
      }
    },
    {
      "cell_type": "code",
      "source": [
        "#Step 3.1\n",
        "\n",
        "from datetime import datetime\n",
        "\n",
        "import torch \n",
        "\n",
        "def getAccuracy(model, dataLoader, device):\n",
        "  correct_pred = 0\n",
        "  n = 0\n",
        "\n",
        "  with torch.no_grad():\n",
        "    model.eval()\n",
        "    for X, y_true in dataLoader:\n",
        "      X = X.to(device)\n",
        "      y_true = y_true.to(device)\n",
        "      _, y_prob = model(X)\n",
        "      _, predicted_labels = torch.max(y_prob, 1)\n",
        "\n",
        "      n += y_true.size(0)\n",
        "      correct_pred += (predicted_labels == y_true).sum()\n",
        "      y_true = y_true.to('cpu')\n",
        "\n",
        "  return correct_pred.float() / n\n",
        "\n",
        "def plotLosses(trainLosses, validLosses):\n",
        "  plt.style.use('seaborn')\n",
        "\n",
        "  trainLosses = np.array(trainLosses)\n",
        "  validLosses = np.array(validLosses)\n",
        "\n",
        "  fig, ax = plt.subplots(figsize = (8, 4.5))\n",
        "\n",
        "  ax.plot(trainLosses, color = 'blue', label='Training Loss')\n",
        "  ax.plot(validLosses, color = 'red', label = 'Validation Loss')\n",
        "  ax.set(title = \"Loss over epochs\", xlabel = \"Epoch\", ylabel = \"Loss\")\n",
        "  ax.legend()\n",
        "  fig.show()\n",
        "\n",
        "  plt.style.use('default')\n",
        "\n",
        "def train(trainLoader, model, criterion, optimizer, device):\n",
        "  model.train()\n",
        "  runningLoss = 0\n",
        "\n",
        "  for X, y_true in trainLoader:\n",
        "    optimizer.zero_grad()\n",
        "\n",
        "    X = X.to(device)\n",
        "    y_true = y_true.to(device)\n",
        "\n",
        "    y_hat, _ = model(X)\n",
        "    loss = criterion(y_hat, y_true)\n",
        "    runningLoss += loss.item() * X.size(0)\n",
        "\n",
        "    loss.backward()\n",
        "    optimizer.step()\n",
        "\n",
        "  epochLoss = runningLoss / len(trainLoader.dataset)\n",
        "  return model, optimizer, epochLoss\n",
        "\n",
        "def validate(validLoader, model, criterion, device):\n",
        "  model.eval()\n",
        "  runningLoss = 0\n",
        "\n",
        "  for X, y_true in validLoader:\n",
        "    X = X.to(device)\n",
        "    y_true = y_true.to(device)\n",
        "\n",
        "    y_hat, _ = model(X)\n",
        "    loss = criterion(y_hat, y_true)\n",
        "    runningLoss += loss.item() * X.size(0)\n",
        "\n",
        "  epochLoss = runningLoss / len(validLoader.dataset)\n",
        "  return model, epochLoss\n",
        "\n",
        "def trainingLoop(model, criterion, optimizer, trainLoader, validLoader, epochs, device, print_every=1):\n",
        "  best_loss = 1e10\n",
        "  trainLosses = []\n",
        "  validLosses = []\n",
        "\n",
        "  for epoch in range(0, epochs):\n",
        "    model, optimizer, trainLoss = train(trainLoader, model, criterion, optimizer, device)\n",
        "    trainLosses.append(trainLoss)\n",
        "\n",
        "    with torch.no_grad():\n",
        "      model, validLoss = validate(validLoader, model, criterion, device)\n",
        "      validLosses.append(validLoss)\n",
        "\n",
        "    if epoch % print_every == (print_every - 1):\n",
        "      trainAccuracy = getAccuracy(model, trainLoader, device = device)\n",
        "      validAccuracy = getAccuracy(model, validLoader, device = device)\n",
        "\n",
        "      print(f'{datetime.now().time().replace(microsecond=0)} ---' f'Epoch: {epoch}\\t' \n",
        "            f'Train loss: {trainLoss:.4f}\\t' f'Valid loss: {validLoss:.4f}\\t' \n",
        "            f'Train accuracy: {100 * trainAccuracy:.2f}\\t' f'Valid accuracy: {100 * validAccuracy:.2f}\\t')\n",
        "      \n",
        "  plotLosses(trainLosses, validLosses)\n",
        "  return model, optimizer, (trainLosses, validLosses)"
      ],
      "metadata": {
        "id": "TZRoNsCT6Ao3"
      },
      "execution_count": null,
      "outputs": []
    },
    {
      "cell_type": "markdown",
      "source": [
        "###Step 3.2\n",
        "Put data into the dataloaders"
      ],
      "metadata": {
        "id": "KBSqwMOtAFwR"
      }
    },
    {
      "cell_type": "code",
      "source": [
        "# Step 3.2\n",
        "# requires Step 1.3\n",
        "\n",
        "from torch.utils.data import DataLoader\n",
        "import torch\n",
        "torch.manual_seed(SEED)\n",
        "\n",
        "trainLoader = DataLoader(dataset = trainSet, batch_size = BATCH_SIZE, shuffle = True, generator = torch.manual_seed(SEED))\n",
        "validLoader = DataLoader(dataset = testSet, batch_size = BATCH_SIZE, shuffle = True, generator = torch.manual_seed(SEED))\n",
        "\n",
        "# # ---- Testing ---- #\n",
        "# print(len(trainSet))\n",
        "# print(len(testSet))\n",
        "\n",
        "# print(len(trainLoader))\n",
        "# print(len(validLoader))\n",
        "# # ----   END   ---- #"
      ],
      "metadata": {
        "id": "_Un8sHmHAKIg"
      },
      "execution_count": null,
      "outputs": []
    },
    {
      "cell_type": "markdown",
      "source": [
        "###Step 3.3\n",
        "Create the model as a derived class of torch.nn"
      ],
      "metadata": {
        "id": "aXG77KQ9L3gq"
      }
    },
    {
      "cell_type": "code",
      "source": [
        "# Step 3.3\n",
        "\n",
        "import torch.nn as nn\n",
        "import torch.nn.functional as F\n",
        "\n",
        "class MyNN(nn.Module):\n",
        "  def __init__(self, n_classes):\n",
        "    super(MyNN, self).__init__()\n",
        "\n",
        "    self.feature_extractor = nn.Sequential(\n",
        "        nn.Conv2d(in_channels = 1, out_channels = 6, kernel_size = 9, stride = 1),\n",
        "        nn.Tanh(),\n",
        "        nn.AvgPool2d(kernel_size = 2),\n",
        "        nn.Conv2d(in_channels = 6, out_channels = 16, kernel_size = 1, stride = 1),\n",
        "        nn.Tanh(),\n",
        "        nn.AvgPool2d(kernel_size = 2),\n",
        "        nn.Conv2d(in_channels = 16, out_channels = 120, kernel_size = 5, stride = 1),\n",
        "        nn.Tanh()\n",
        "    )\n",
        "\n",
        "    self.classifier = nn.Sequential(\n",
        "        nn.Linear(in_features = 120, out_features = 84), \n",
        "        nn.Tanh(),\n",
        "        nn.Linear(in_features = 84, out_features = n_classes),\n",
        "    )\n",
        "\n",
        "  def forward(self, x):\n",
        "    x = self.feature_extractor(x)\n",
        "    x = torch.flatten(x, 1)\n",
        "    logits = self.classifier(x)\n",
        "    probs = F.softmax(logits, dim = 1)\n",
        "    return logits, probs"
      ],
      "metadata": {
        "id": "NZpG_zDVMFgx"
      },
      "execution_count": null,
      "outputs": []
    },
    {
      "cell_type": "markdown",
      "source": [
        "###Step 3.4\n",
        "Check for GPU"
      ],
      "metadata": {
        "id": "7kLL_IO0Zo-S"
      }
    },
    {
      "cell_type": "code",
      "source": [
        "# Step 3.4 \n",
        "import torch\n",
        "\n",
        "DEVICE = 'cuda' if torch.cuda.is_available() else 'cpu'\n",
        "print(DEVICE)"
      ],
      "metadata": {
        "colab": {
          "base_uri": "https://localhost:8080/"
        },
        "id": "2lJ43zRjZtf1",
        "outputId": "ac626493-7dba-4384-d811-a6c835cb9331"
      },
      "execution_count": null,
      "outputs": [
        {
          "output_type": "stream",
          "name": "stdout",
          "text": [
            "cuda\n"
          ]
        }
      ]
    },
    {
      "cell_type": "markdown",
      "source": [
        "###Step 3.5\n",
        "Train the network"
      ],
      "metadata": {
        "id": "EiXMIFNLbHAZ"
      }
    },
    {
      "cell_type": "code",
      "source": [
        "# Step 3.5\n",
        "# requires step 0, 3.1, 3.2, 3.3, 3.4\n",
        "\n",
        "model = MyNN(26).to(DEVICE)\n",
        "optimizer = torch.optim.Adam(model.parameters(), lr = LEARNING_RATE)\n",
        "criterion = nn.CrossEntropyLoss()\n",
        "\n",
        "model, optimizer, _ = trainingLoop(model, criterion, optimizer, trainLoader, validLoader, N_EPOCHS, DEVICE)"
      ],
      "metadata": {
        "colab": {
          "base_uri": "https://localhost:8080/",
          "height": 410
        },
        "id": "2u624TzebW6r",
        "outputId": "07d46aa6-830f-4f26-9f5e-307d813d05f3"
      },
      "execution_count": null,
      "outputs": [
        {
          "output_type": "stream",
          "name": "stdout",
          "text": [
            "02:49:14 ---Epoch: 0\tTrain loss: 0.5894\tValid loss: 0.3740\tTrain accuracy: 88.87\tValid accuracy: 88.15\t\n",
            "02:49:30 ---Epoch: 1\tTrain loss: 0.3160\tValid loss: 0.3064\tTrain accuracy: 91.07\tValid accuracy: 90.19\t\n",
            "02:49:48 ---Epoch: 2\tTrain loss: 0.2728\tValid loss: 0.2861\tTrain accuracy: 91.90\tValid accuracy: 90.87\t\n",
            "02:50:04 ---Epoch: 3\tTrain loss: 0.2515\tValid loss: 0.2835\tTrain accuracy: 92.02\tValid accuracy: 90.91\t\n",
            "02:50:22 ---Epoch: 4\tTrain loss: 0.2338\tValid loss: 0.2731\tTrain accuracy: 92.54\tValid accuracy: 91.28\t\n"
          ]
        },
        {
          "output_type": "display_data",
          "data": {
            "text/plain": [
              "<Figure size 576x324 with 1 Axes>"
            ],
            "image/png": "[encoded data removed]"
          },
          "metadata": {}
        }
      ]
    },
    {
      "cell_type": "markdown",
      "source": [
        "##Task 4\n",
        "Compare time to train model with and without hardware accelerators"
      ],
      "metadata": {
        "id": "lJVevWOGmJR5"
      }
    },
    {
      "cell_type": "markdown",
      "source": [
        "### With Hareware Accelerator\n",
        "23:00:04 ---Epoch: 0\tTrain loss: 0.5625\tValid loss: 0.3501\tTrain accuracy: 89.61\tValid accuracy: 89.07\t\n",
        "23:00:21 ---Epoch: 1\tTrain loss: 0.3117\tValid loss: 0.3248\tTrain accuracy: 90.67\tValid accuracy: 89.75\t\n",
        "23:00:38 ---Epoch: 2\tTrain loss: 0.2750\tValid loss: 0.2886\tTrain accuracy: 91.91\tValid accuracy: 90.85\t\n",
        "23:00:54 ---Epoch: 3\tTrain loss: 0.2532\tValid loss: 0.2702\tTrain accuracy: 92.56\tValid accuracy: 91.29\t\n",
        "23:01:11 ---Epoch: 4\tTrain loss: 0.2346\tValid loss: 0.2741\tTrain accuracy: 92.91\tValid accuracy: 91.33\t\n",
        "\n",
        "Total Time: 1 min 7 sec"
      ],
      "metadata": {
        "id": "ZbKIDVWnHfhf"
      }
    },
    {
      "cell_type": "markdown",
      "source": [
        "###Without Hardware Accelerator\n",
        "\n",
        "23:15:11 ---Epoch: 0\tTrain loss: 0.5875\tValid loss: 0.3804\tTrain accuracy: 88.50\tValid accuracy: 87.85\t\n",
        "23:15:46 ---Epoch: 1\tTrain loss: 0.3138\tValid loss: 0.3071\tTrain accuracy: 91.13\tValid accuracy: 90.11\t\n",
        "23:16:22 ---Epoch: 2\tTrain loss: 0.2733\tValid loss: 0.2916\tTrain accuracy: 91.69\tValid accuracy: 90.45\t\n",
        "23:17:00 ---Epoch: 3\tTrain loss: 0.2526\tValid loss: 0.2994\tTrain accuracy: 91.59\tValid accuracy: 90.50\t\n",
        "23:17:36 ---Epoch: 4\tTrain loss: 0.2366\tValid loss: 0.2770\tTrain accuracy: 92.62\tValid accuracy: 91.09\t\n",
        "\n",
        "Total Time: 3 min 3 sec"
      ],
      "metadata": {
        "id": "es92NOzoH76Z"
      }
    },
    {
      "cell_type": "markdown",
      "source": [
        "##Task 5\n",
        "Print out confusion matrix"
      ],
      "metadata": {
        "id": "PPfLzHTixDBW"
      }
    },
    {
      "cell_type": "code",
      "source": [
        "# Task 5\n",
        "# requires step 3.5\n",
        "import string\n",
        "\n",
        "confusionMatrix = [[0 for i in range(27)] for j in range(27)]\n",
        "\n",
        "count = 0\n",
        "badCount = 0\n",
        "\n",
        "colLabel = 1\n",
        "for letter in string.ascii_uppercase:\n",
        "  confusionMatrix[0][colLabel] =  \"   \" + letter\n",
        "  colLabel += 1\n",
        "\n",
        "rowLabel = 1\n",
        "for letter in string.ascii_uppercase:\n",
        "  confusionMatrix[rowLabel][0] = letter\n",
        "  rowLabel += 1\n",
        "\n",
        "\n",
        "for i in range(len(testSet)):\n",
        "  count += 1\n",
        "  with torch.no_grad():\n",
        "    model.eval()\n",
        "    y_hat, probs = model(torch.from_numpy(testSet.__getitem__(i)[0]).reshape(-1, 1, 28, 28).to(DEVICE))\n",
        "\n",
        "  guess = f'{torch.argmax(probs)}'\n",
        "  actual = f'{testSet.__getitem__(i)[1]}'\n",
        "\n",
        "  confusionMatrix[int(actual) + 1 ][int(guess) + 1] += 1\n",
        "  if (int(actual) != int(guess)):\n",
        "    badCount += 1\n",
        "\n",
        "print(str((count - badCount * 100) / (count)) + '% Accuracy\\n')\n",
        "\n",
        "print('Confusion Matrix')\n",
        "print()\n",
        "print('\\n'.join([''.join(['{:4}'.format(item) for item in row]) for row in confusionMatrix]))\n"
      ],
      "metadata": {
        "colab": {
          "base_uri": "https://localhost:8080/"
        },
        "id": "wsLNrBjfxHuT",
        "outputId": "0fa65dfc-e700-4a44-c5eb-15888bb79c8c"
      },
      "execution_count": null,
      "outputs": [
        {
          "output_type": "stream",
          "name": "stdout",
          "text": [
            "-7.721153846153846% Accuracy\n",
            "\n",
            "Confusion Matrix\n",
            "\n",
            "   0   A   B   C   D   E   F   G   H   I   J   K   L   M   N   O   P   Q   R   S   T   U   V   W   X   Y   Z\n",
            "A    753   2   2   2   3   1   9   4   0   1   2   0   0   1   2   0   8   2   0   0   1   0   0   2   0   5\n",
            "B      4 753   0   1   1   0   9  11   0   2   0   4   0   1   4   0   0   2   1   0   0   0   0   1   0   6\n",
            "C      1   2 761   1  17   0   5   0   0   0   0   3   0   0   1   0   0   3   1   2   0   0   1   0   0   2\n",
            "D     10   5   1 735   0   0   3   1   0   3   0   0   0   1  33   5   1   0   1   1   0   0   0   0   0   0\n",
            "E      8   2  16   0 750   6   1   0   0   0   3   5   0   0   1   1   2   3   0   0   1   0   0   0   0   1\n",
            "F      0   0   0   0   2 765   1   0   3   0   0   0   0   0   0   5   4   3   4  12   0   0   0   0   0   1\n",
            "G     24  14   4   2   4   4 605   3   0   4   0   0   0   1   0   0 118   2   9   0   0   0   0   3   2   1\n",
            "H     15   1   0   0   0   1   0 739   1   0   7  10   2  17   0   0   0   1   0   1   4   0   0   1   0   0\n",
            "I      0   0   1   1   1   1   0   0 640  21   1 125   0   0   1   0   0   0   0   0   0   2   1   1   0   4\n",
            "J      1   2   0   5   0   1   5   0  22 740   0   0   0   0   0   0   3   0   7   7   2   1   0   0   2   2\n",
            "K      2   4   1   1   1   0   0  14   2   0 734   5   0   1   0   0   0   9   0   4   1   0   0  18   0   3\n",
            "L      0   2   3   0   0   1   0   6 241   1   1 535   0   0   0   1   3   1   1   0   1   1   0   0   2   0\n",
            "M      6   0   0   0   0   0   0   5   0   0   1   0 771  12   0   0   0   2   0   0   1   0   2   0   0   0\n",
            "N     25   0   0   3   0   0   1  14   0   0   5   0   7 718   2   1   0  10   0   0   5   2   3   4   0   0\n",
            "O      6   5   4   5   0   0   7   0   1   0   0   0   1   0 765   0   4   0   0   0   2   0   0   0   0   0\n",
            "P      0   0   0   4   1  14   1   0   1   0   0   0   0   0   1 764   7   7   0   0   0   0   0   0   0   0\n",
            "Q     44   2   1   4   2   4  62   0   2   1   1   0   0   1   4   1 661   1   0   1   1   0   0   1   3   3\n",
            "R      6   2   3   0   1   4   0   0   3   0   4   2   0   2   0   2   0 751   1   5   0   3   0   4   5   2\n",
            "S      2   1   0   0   2   1  10   0   0   6   0   0   0   1   0   0   0   0 777   0   0   0   0   0   0   0\n",
            "T      1   3   0   0   3  11   0   1   4   1   1   1   0   0   1   0   0   1   0 761   0   0   0   2   6   3\n",
            "U      6   0   3   2   0   0   2   2   0   0   3   1   1   1   3   0   2   1   1   0 742  28   1   1   0   0\n",
            "V      0   0   0   2   0   0   0   0   1   1   0   1   0   1   0   0   1  10   0   1  26 740   0   7   9   0\n",
            "W      0   1   0   2   0   0   0   2   0   2   0   0   5  22   0   0   0   0   0   1   9   6 748   1   1   0\n",
            "X      3   0   0   2   0   0   0   2   0   1   7   1   0   1   0   0   0   3   0   2   0   2   0 768   5   3\n",
            "Y      1   3   0   2   0   1   6   3   1   1   1   1   0   1   0   0   8   5   1   5   1   6   0  21 732   0\n",
            "Z      1   0   2   1   2   0   6   0   1   0   0   1   0   0   0   0   2   0   0   3   0   0   0   3   0 778\n"
          ]
        }
      ]
    }
  ]
}